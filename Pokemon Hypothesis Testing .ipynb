{
 "cells": [
  {
   "cell_type": "code",
   "execution_count": 28,
   "id": "016b1b12",
   "metadata": {},
   "outputs": [],
   "source": [
    "# Import necessary libraries\n",
    "import pandas as pd\n",
    "import numpy as np\n",
    "from scipy.stats import ttest_1samp\n",
    "from scipy import stats\n",
    "from statsmodels.stats import weightstats as stests"
   ]
  },
  {
   "cell_type": "code",
   "execution_count": 29,
   "id": "3f50260c",
   "metadata": {},
   "outputs": [
    {
     "data": {
      "text/html": [
       "<div>\n",
       "<style scoped>\n",
       "    .dataframe tbody tr th:only-of-type {\n",
       "        vertical-align: middle;\n",
       "    }\n",
       "\n",
       "    .dataframe tbody tr th {\n",
       "        vertical-align: top;\n",
       "    }\n",
       "\n",
       "    .dataframe thead th {\n",
       "        text-align: right;\n",
       "    }\n",
       "</style>\n",
       "<table border=\"1\" class=\"dataframe\">\n",
       "  <thead>\n",
       "    <tr style=\"text-align: right;\">\n",
       "      <th></th>\n",
       "      <th>#</th>\n",
       "      <th>Name</th>\n",
       "      <th>Type 1</th>\n",
       "      <th>Type 2</th>\n",
       "      <th>Total</th>\n",
       "      <th>HP</th>\n",
       "      <th>Attack</th>\n",
       "      <th>Defense</th>\n",
       "      <th>Sp. Atk</th>\n",
       "      <th>Sp. Def</th>\n",
       "      <th>Speed</th>\n",
       "      <th>Generation</th>\n",
       "      <th>Legendary</th>\n",
       "    </tr>\n",
       "  </thead>\n",
       "  <tbody>\n",
       "    <tr>\n",
       "      <th>0</th>\n",
       "      <td>1</td>\n",
       "      <td>Bulbasaur</td>\n",
       "      <td>Grass</td>\n",
       "      <td>Poison</td>\n",
       "      <td>318</td>\n",
       "      <td>45</td>\n",
       "      <td>49</td>\n",
       "      <td>49</td>\n",
       "      <td>65</td>\n",
       "      <td>65</td>\n",
       "      <td>45</td>\n",
       "      <td>1</td>\n",
       "      <td>False</td>\n",
       "    </tr>\n",
       "    <tr>\n",
       "      <th>1</th>\n",
       "      <td>2</td>\n",
       "      <td>Ivysaur</td>\n",
       "      <td>Grass</td>\n",
       "      <td>Poison</td>\n",
       "      <td>405</td>\n",
       "      <td>60</td>\n",
       "      <td>62</td>\n",
       "      <td>63</td>\n",
       "      <td>80</td>\n",
       "      <td>80</td>\n",
       "      <td>60</td>\n",
       "      <td>1</td>\n",
       "      <td>False</td>\n",
       "    </tr>\n",
       "    <tr>\n",
       "      <th>2</th>\n",
       "      <td>3</td>\n",
       "      <td>Venusaur</td>\n",
       "      <td>Grass</td>\n",
       "      <td>Poison</td>\n",
       "      <td>525</td>\n",
       "      <td>80</td>\n",
       "      <td>82</td>\n",
       "      <td>83</td>\n",
       "      <td>100</td>\n",
       "      <td>100</td>\n",
       "      <td>80</td>\n",
       "      <td>1</td>\n",
       "      <td>False</td>\n",
       "    </tr>\n",
       "    <tr>\n",
       "      <th>3</th>\n",
       "      <td>3</td>\n",
       "      <td>VenusaurMega Venusaur</td>\n",
       "      <td>Grass</td>\n",
       "      <td>Poison</td>\n",
       "      <td>625</td>\n",
       "      <td>80</td>\n",
       "      <td>100</td>\n",
       "      <td>123</td>\n",
       "      <td>122</td>\n",
       "      <td>120</td>\n",
       "      <td>80</td>\n",
       "      <td>1</td>\n",
       "      <td>False</td>\n",
       "    </tr>\n",
       "    <tr>\n",
       "      <th>4</th>\n",
       "      <td>4</td>\n",
       "      <td>Charmander</td>\n",
       "      <td>Fire</td>\n",
       "      <td>NaN</td>\n",
       "      <td>309</td>\n",
       "      <td>39</td>\n",
       "      <td>52</td>\n",
       "      <td>43</td>\n",
       "      <td>60</td>\n",
       "      <td>50</td>\n",
       "      <td>65</td>\n",
       "      <td>1</td>\n",
       "      <td>False</td>\n",
       "    </tr>\n",
       "  </tbody>\n",
       "</table>\n",
       "</div>"
      ],
      "text/plain": [
       "   #                   Name Type 1  Type 2  Total  HP  Attack  Defense  \\\n",
       "0  1              Bulbasaur  Grass  Poison    318  45      49       49   \n",
       "1  2                Ivysaur  Grass  Poison    405  60      62       63   \n",
       "2  3               Venusaur  Grass  Poison    525  80      82       83   \n",
       "3  3  VenusaurMega Venusaur  Grass  Poison    625  80     100      123   \n",
       "4  4             Charmander   Fire     NaN    309  39      52       43   \n",
       "\n",
       "   Sp. Atk  Sp. Def  Speed  Generation  Legendary  \n",
       "0       65       65     45           1      False  \n",
       "1       80       80     60           1      False  \n",
       "2      100      100     80           1      False  \n",
       "3      122      120     80           1      False  \n",
       "4       60       50     65           1      False  "
      ]
     },
     "execution_count": 29,
     "metadata": {},
     "output_type": "execute_result"
    }
   ],
   "source": [
    "# Read the Pokemon dataset into a DataFrame\n",
    "df = pd.read_csv('pokemon.csv')\n",
    "df.head()"
   ]
  },
  {
   "cell_type": "code",
   "execution_count": 30,
   "id": "0893bbdd",
   "metadata": {},
   "outputs": [
    {
     "data": {
      "text/plain": [
       "array([[630, 334, 480, ..., 600, 340, 580],\n",
       "       [260, 610, 302, ..., 455, 335, 300],\n",
       "       [487, 440, 475, ..., 413, 600, 505],\n",
       "       ...,\n",
       "       [495, 465, 470, ..., 525, 430, 395],\n",
       "       [424, 320, 300, ..., 300, 325, 567],\n",
       "       [360, 290, 270, ..., 523, 494, 300]])"
      ]
     },
     "execution_count": 30,
     "metadata": {},
     "output_type": "execute_result"
    }
   ],
   "source": [
    "# Random Sampling \n",
    "def random_sampling(df,no_of_samples, sample_size):\n",
    "    random_samples = []   \n",
    "    for i in range(no_of_samples):\n",
    "        # Randomly sampling without replacement\n",
    "        sample = np.random.choice(df, size=sample_size, replace=False)\n",
    "        random_samples.append(sample)\n",
    "    random_samples = np.array(random_samples)\n",
    "    return random_samples\n",
    "pokemon_samples = random_sampling(df['Total'], 200, 50)\n",
    "pokemon_samples"
   ]
  },
  {
   "cell_type": "code",
   "execution_count": 31,
   "id": "ab3bb2f9",
   "metadata": {},
   "outputs": [
    {
     "name": "stdout",
     "output_type": "stream",
     "text": [
      "mean =  79.00125\n",
      "p-values =  2.1705920330696673e-07\n",
      "Reject null hypothesis\n"
     ]
    }
   ],
   "source": [
    "#P-value\n",
    "attack_mean = np.mean(df['Attack'])\n",
    "print(\"mean = \", attack_mean)\n",
    "test, pval = ttest_1samp(df['Attack'], 73)\n",
    "print(\"p-values = \", pval)\n",
    "if pval < 0.05:\n",
    "   print(\"Reject null hypothesis\")\n",
    "else:\n",
    "  print(\"Fail to reject null hypothesis\")"
   ]
  },
  {
   "cell_type": "markdown",
   "id": "d17d6863",
   "metadata": {},
   "source": [
    "### One-sample t-test for Attack attribute:\n",
    "\n",
    "Null Hypothesis: The average Attack of Pokémon is 73.\n",
    "\n",
    "Alternate Hypothesis: The average Attack of Pokémon is not 73.\n",
    "\n",
    "Result: With a very low p-value (2.17e-07), we reject the null hypothesis. This indicates strong evidence that the average Attack of Pokémon is significantly different from 73."
   ]
  },
  {
   "cell_type": "code",
   "execution_count": 32,
   "id": "1d446937",
   "metadata": {},
   "outputs": [
    {
     "name": "stdout",
     "output_type": "stream",
     "text": [
      "0.4447658863352716\n",
      "Fail to reject null hypothesis\n"
     ]
    }
   ],
   "source": [
    "# Z-Test \n",
    "ztest ,pval = stests.ztest(df['Defense'], x2=None, value=73)\n",
    "print(float(pval))\n",
    "if pval<0.05:\n",
    "    print(\"Reject null hypothesis\")\n",
    "else:\n",
    "    print(\"Fail to reject null hypothesis\")"
   ]
  },
  {
   "cell_type": "markdown",
   "id": "c71cb0e3",
   "metadata": {},
   "source": [
    "### Z-test for Defense attribute:\n",
    "\n",
    "Null Hypothesis: The average Defense of Pokémon is 73.\n",
    "\n",
    "Alternate Hypothesis: The average Defense of Pokémon is not 73.\n",
    "\n",
    "Result: The p-value (0.4448) is greater than the significance level of 0.05. Therefore, we fail to reject the null hypothesis. This suggests that there isn't sufficient evidence to conclude that the average Defense of Pokémon differs significantly from 73."
   ]
  },
  {
   "cell_type": "markdown",
   "id": "3b732663",
   "metadata": {},
   "source": [
    "### Conclusion \n",
    "There is strong evidence to suggest that the population mean Attack value differs significantly from 73, while there is no significant difference between the population mean Defense value and 73."
   ]
  }
 ],
 "metadata": {
  "kernelspec": {
   "display_name": "Python 3 (ipykernel)",
   "language": "python",
   "name": "python3"
  },
  "language_info": {
   "codemirror_mode": {
    "name": "ipython",
    "version": 3
   },
   "file_extension": ".py",
   "mimetype": "text/x-python",
   "name": "python",
   "nbconvert_exporter": "python",
   "pygments_lexer": "ipython3",
   "version": "3.11.5"
  }
 },
 "nbformat": 4,
 "nbformat_minor": 5
}
